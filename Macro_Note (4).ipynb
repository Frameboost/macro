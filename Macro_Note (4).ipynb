{
 "cells": [
  {
   "cell_type": "code",
   "execution_count": 64,
   "metadata": {
    "colab": {
     "base_uri": "https://localhost:8080/"
    },
    "id": "K0BCEcSS2wE5",
    "outputId": "fe509244-3653-46db-c546-10ff2a3d93cc"
   },
   "outputs": [
    {
     "name": "stdout",
     "output_type": "stream",
     "text": [
      "Requirement already satisfied: pandas in c:\\users\\root\\.conda\\envs\\econ\\lib\\site-packages (2.1.4)\n",
      "Requirement already satisfied: numpy<2,>=1.23.2 in c:\\users\\root\\.conda\\envs\\econ\\lib\\site-packages (from pandas) (1.26.2)\n",
      "Requirement already satisfied: python-dateutil>=2.8.2 in c:\\users\\root\\.conda\\envs\\econ\\lib\\site-packages (from pandas) (2.8.2)\n",
      "Requirement already satisfied: pytz>=2020.1 in c:\\users\\root\\.conda\\envs\\econ\\lib\\site-packages (from pandas) (2023.3.post1)\n",
      "Requirement already satisfied: tzdata>=2022.1 in c:\\users\\root\\.conda\\envs\\econ\\lib\\site-packages (from pandas) (2023.3)\n",
      "Requirement already satisfied: six>=1.5 in c:\\users\\root\\.conda\\envs\\econ\\lib\\site-packages (from python-dateutil>=2.8.2->pandas) (1.16.0)\n"
     ]
    }
   ],
   "source": [
    "!pip install pandas"
   ]
  },
  {
   "cell_type": "code",
   "execution_count": 65,
   "metadata": {
    "colab": {
     "base_uri": "https://localhost:8080/"
    },
    "id": "0PUVkPqg65ZP",
    "outputId": "21d7a9cb-11eb-4f24-c8de-6e5c1260958d"
   },
   "outputs": [
    {
     "name": "stdout",
     "output_type": "stream",
     "text": [
      "Requirement already satisfied: openpyxl in c:\\users\\root\\.conda\\envs\\econ\\lib\\site-packages (3.1.2)\n",
      "Requirement already satisfied: et-xmlfile in c:\\users\\root\\.conda\\envs\\econ\\lib\\site-packages (from openpyxl) (1.1.0)\n"
     ]
    }
   ],
   "source": [
    "!pip install openpyxl"
   ]
  },
  {
   "cell_type": "code",
   "execution_count": 66,
   "metadata": {
    "id": "WU3OXArtI2wC"
   },
   "outputs": [],
   "source": [
    "import numpy as np\n",
    "import pandas as pd\n",
    "import matplotlib.pyplot as plt\n",
    "from statsmodels.tsa.stattools import adfuller\n",
    "from statsmodels.tsa.seasonal import seasonal_decompose\n",
    "from statsmodels.tsa.filters.hp_filter import hpfilter\n",
    "from scipy.optimize import minimize"
   ]
  },
  {
   "cell_type": "code",
   "execution_count": 67,
   "metadata": {
    "id": "SiJX-_WpI4tE"
   },
   "outputs": [],
   "source": [
    "df = pd.read_excel('C:/Users/Root/DATA_AUSTRIA.xlsx')"
   ]
  },
  {
   "cell_type": "code",
   "execution_count": 68,
   "metadata": {
    "id": "6UvcuaaCJjnr"
   },
   "outputs": [],
   "source": [
    "Y = df['Y'].values\n",
    "C = df['C'].values\n",
    "I = df['I'].values\n",
    "K=  df['K'].values\n",
    "N = df['N'].values\n",
    "r = df['r'].values\n",
    "w = df['w'].values"
   ]
  },
  {
   "cell_type": "code",
   "execution_count": 69,
   "metadata": {
    "colab": {
     "base_uri": "https://localhost:8080/"
    },
    "id": "P4Xp6g27PmZE",
    "outputId": "9384261b-3e90-4fa0-a4c8-91ba7556ba2f"
   },
   "outputs": [
    {
     "data": {
      "text/plain": [
       "{'Y': 'ADF Test: Y\\nADF Statistic: -5.327479327385257\\np-value: 4.801804219229677e-06\\nNum Lags: 0\\nNum Observations: 44\\nCritical Value (1%): -3.5885733964124715\\nCritical Value (5%): -2.929885661157025\\nCritical Value (10%): -2.6031845661157025\\n',\n",
       " 'C': 'ADF Test: C\\nADF Statistic: -3.2884629135178525\\np-value: 0.015402125176008976\\nNum Lags: 0\\nNum Observations: 49\\nCritical Value (1%): -3.5714715250448363\\nCritical Value (5%): -2.922629480573571\\nCritical Value (10%): -2.5993358475635153\\n',\n",
       " 'I': 'ADF Test: I\\nADF Statistic: -2.6553820376710418\\np-value: 0.08208242150058981\\nNum Lags: 0\\nNum Observations: 49\\nCritical Value (1%): -3.5714715250448363\\nCritical Value (5%): -2.922629480573571\\nCritical Value (10%): -2.5993358475635153\\n',\n",
       " 'N': 'ADF Test: N\\nADF Statistic: -2.6553820376710418\\np-value: 0.08208242150058981\\nNum Lags: 0\\nNum Observations: 49\\nCritical Value (1%): -3.5714715250448363\\nCritical Value (5%): -2.922629480573571\\nCritical Value (10%): -2.5993358475635153\\n',\n",
       " 'r': 'ADF Test: r\\nADF Statistic: -4.214114743737818\\np-value: 0.000623573687896187\\nNum Lags: 1\\nNum Observations: 39\\nCritical Value (1%): -3.610399601308181\\nCritical Value (5%): -2.939108945868946\\nCritical Value (10%): -2.6080629651545038\\n',\n",
       " 'w': 'ADF Test: w\\nADF Statistic: -2.86383597930944\\np-value: 0.04971789874421976\\nNum Lags: 0\\nNum Observations: 49\\nCritical Value (1%): -3.5714715250448363\\nCritical Value (5%): -2.922629480573571\\nCritical Value (10%): -2.5993358475635153\\n',\n",
       " 'K': 'ADF Test: K\\nADF Statistic: -2.6553820376710418\\np-value: 0.08208242150058981\\nNum Lags: 0\\nNum Observations: 49\\nCritical Value (1%): -3.5714715250448363\\nCritical Value (5%): -2.922629480573571\\nCritical Value (10%): -2.5993358475635153\\n'}"
      ]
     },
     "execution_count": 69,
     "metadata": {},
     "output_type": "execute_result"
    }
   ],
   "source": [
    "\n",
    "for column in ['Y', 'C', 'I', 'N', 'r', 'w', 'K']:\n",
    "    df[column] = df[column].astype(str).str.replace(',', '.').astype(float)\n",
    "\n",
    "log_vars = ['Y', 'C', 'I', 'N', 'r', 'w', 'K']\n",
    "for var in log_vars:\n",
    "    df[var] = df[var].apply(lambda x: np.log(x) if x > 0 else np.nan)\n",
    "\n",
    "\n",
    "for var in log_vars:\n",
    "    if df[var].isna().sum() / len(df) > 0.5:\n",
    "        print(f\"Warning: Over 50% NaN values in {var} after log transformation.\")\n",
    "\n",
    "for var in log_vars:\n",
    "    if df[var].isna().sum() / len(df) < 0.5:\n",
    "        cycle, trend = hpfilter(df[var].dropna(), lamb=1600)\n",
    "        df[var + '_cycle'] = cycle\n",
    "    else:\n",
    "        df[var + '_cycle'] = np.nan\n",
    "\n",
    "def adf_test(series, title=''):\n",
    "    if series.dropna().empty:\n",
    "        return f'ADF Test: {title} - no non-NaN data available after preprocessing.\\n'\n",
    "    result = adfuller(series.dropna(), autolag='AIC')\n",
    "    output = f'ADF Test: {title}\\n'\n",
    "    output += f'ADF Statistic: {result[0]}\\n'\n",
    "    output += f'p-value: {result[1]}\\n'\n",
    "    output += f'Num Lags: {result[2]}\\n'\n",
    "    output += f'Num Observations: {result[3]}\\n'\n",
    "    for key, value in result[4].items():\n",
    "        output += f'Critical Value ({key}): {value}\\n'\n",
    "    return output\n",
    "\n",
    "adf_results = {}\n",
    "for var in log_vars:\n",
    "    if df[var + '_cycle'].notna().any():\n",
    "        adf_results[var] = adf_test(df[var + '_cycle'], title=var)\n",
    "\n",
    "adf_results"
   ]
  },
  {
   "cell_type": "code",
   "execution_count": 70,
   "metadata": {
    "id": "jH3F4itHU1Cy"
   },
   "outputs": [],
   "source": [
    "beta = 0.99\n",
    "alpha = 0.3\n",
    "delta = 0.05"
   ]
  },
  {
   "cell_type": "code",
   "execution_count": 77,
   "metadata": {
    "colab": {
     "base_uri": "https://localhost:8080/",
     "height": 1000
    },
    "id": "j82ZnBZzb6oj",
    "outputId": "2cdca25a-005b-425c-8fc1-e992ce9998e3"
   },
   "outputs": [
    {
     "ename": "SyntaxError",
     "evalue": "invalid syntax. Perhaps you forgot a comma? (1152436278.py, line 46)",
     "output_type": "error",
     "traceback": [
      "\u001b[1;36m  Cell \u001b[1;32mIn[77], line 46\u001b[1;36m\u001b[0m\n\u001b[1;33m    {'type': 'ineq', 'fun': lambda x: constraint2(K[t 1], x[1], K[t], delta)}\u001b[0m\n\u001b[1;37m                                                    ^\u001b[0m\n\u001b[1;31mSyntaxError\u001b[0m\u001b[1;31m:\u001b[0m invalid syntax. Perhaps you forgot a comma?\n"
     ]
    }
   ],
   "source": [
    "# Функция потерь (пример)\n",
    "def utility(C, beta):\n",
    "    return C**beta\n",
    "\n",
    "# Функции ограничений\n",
    "def constraint1(C, I, w, N, r, K):\n",
    "    return w * N (1 - r) * K - C - I\n",
    "\n",
    "def constraint2(K_next, I, K, delta):\n",
    "    return K_next - (1 - delta) * K - I\n",
    "\n",
    "# Simulate shocks\n",
    "def simulate_shock(T):\n",
    "    shocks = [1]\n",
    "    std_shock = 0.02\n",
    "    for t in range(1, T):\n",
    "        shocks.append(shocks[-1] * np.random.lognormal(std_shock))\n",
    "    return shocks\n",
    "\n",
    "# Initialize lists to store results\n",
    "C = np.zeros(len(Y))\n",
    "I = np.zeros(len(Y))\n",
    "K_new = np.zeros(len(Y))\n",
    "r = np.zeros(len(Y))\n",
    "w = np.zeros(len(Y))\n",
    "\n",
    "# Simulate shocks\n",
    "shocks = simulate_shock(len(Y))\n",
    "# A = simulate_shock(len(Y))\n",
    "\n",
    "# Solve the model using optimization\n",
    "for t in range(len(Y)-1):\n",
    "    # Calculate current values for r and w\n",
    "    r[t] = alpha * Y[t] / K[t]\n",
    "    w[t] = (1 - alpha) * Y[t] / N[t]\n",
    "\n",
    "    # Apply shocks to parameters (e.g., technology shock)\n",
    "    A_t = A[t] * shocks[t] # Modify A with the shock\n",
    "\n",
    "    # Optimize consumption and investment\n",
    "    result = minimize(\n",
    "        lambda x: -utility(x[0], beta), # Функция потерь\n",
    "        [1, 1], # Начальное предположение\n",
    "        constraints=(\n",
    "            {'type': 'ineq', 'fun': lambda x: constraint1(x[0], x[1], w[t], N[t], r[t], K[t])},\n",
    "            {'type': 'ineq', 'fun': lambda x: constraint2(K[t 1], x[1], K[t], delta)}\n",
    "        ),\n",
    "        bounds=((0, None), (0, None)) # C и I не могут быть отрицательными\n",
    "    )\n",
    "\n",
    "    # If optimization is successful, save the results\n",
    "    if result.success:\n",
    "        C[t], I[t] = result.x\n",
    "    else:\n",
    "        print(f\"Optimization failed at t={t}\")\n",
    "\n",
    "# Results with shocks\n",
    "plt.figure(figsize=(12, 8))\n",
    "\n",
    "# GDP plot with shocks\n",
    "plt.subplot(2, 3, 1)\n",
    "plt.plot(Y, label='GDP')\n",
    "plt.plot(Y * np.cumprod(shocks), label='GDP with Shocks', linestyle='--')\n",
    "plt.title('GDP Dynamics')\n",
    "\n",
    "# Consumption plot with shocks\n",
    "plt.subplot(2, 3, 2)\n",
    "plt.plot(C, label='Consumption')\n",
    "plt.plot(C * np.cumprod(shocks), label='Consumption with Shocks', linestyle='--')\n",
    "plt.title('Consumption Dynamics')\n",
    "\n",
    "# Investment plot with shocks\n",
    "plt.subplot(2, 3, 3)\n",
    "plt.plot(I, label='Investment')\n",
    "plt.plot(I * np.cumprod(shocks), label='Investment with Shocks', linestyle='--')\n",
    "plt.title('Investment Dynamics')\n",
    "\n",
    "# Capital plot\n",
    "plt.subplot(2, 3, 4)\n",
    "plt.plot(K, label='Capital')\n",
    "plt.title('Capital Dynamics')\n",
    "\n",
    "# Interest rate plot\n",
    "plt.subplot(2, 3, 5)\n",
    "plt.plot(r, label='Interest Rate')\n",
    "plt.title('Interest Rate Dynamics')\n",
    "\n",
    "# Wage plot\n",
    "plt.subplot(2, 3, 6)\n",
    "plt.plot(w, label='Wage')\n",
    "plt.title('Wage Dynamics')\n",
    "\n",
    "plt.tight_layout()\n",
    "plt.legend()\n",
    "plt.show()"
   ]
  },
  {
   "cell_type": "code",
   "execution_count": null,
   "metadata": {},
   "outputs": [],
   "source": []
  }
 ],
 "metadata": {
  "colab": {
   "include_colab_link": true,
   "provenance": []
  },
  "kernelspec": {
   "display_name": "Python 3 (ipykernel)",
   "language": "python",
   "name": "python3"
  },
  "language_info": {
   "codemirror_mode": {
    "name": "ipython",
    "version": 3
   },
   "file_extension": ".py",
   "mimetype": "text/x-python",
   "name": "python",
   "nbconvert_exporter": "python",
   "pygments_lexer": "ipython3",
   "version": "3.11.7"
  }
 },
 "nbformat": 4,
 "nbformat_minor": 4
}
