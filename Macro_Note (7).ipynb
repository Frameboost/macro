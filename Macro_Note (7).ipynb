{
 "cells": [
  {
   "cell_type": "code",
   "execution_count": 64,
   "metadata": {
    "colab": {
     "base_uri": "https://localhost:8080/"
    },
    "id": "K0BCEcSS2wE5",
    "outputId": "fe509244-3653-46db-c546-10ff2a3d93cc"
   },
   "outputs": [
    {
     "name": "stdout",
     "output_type": "stream",
     "text": [
      "Requirement already satisfied: pandas in c:\\users\\root\\.conda\\envs\\econ\\lib\\site-packages (2.1.4)\n",
      "Requirement already satisfied: numpy<2,>=1.23.2 in c:\\users\\root\\.conda\\envs\\econ\\lib\\site-packages (from pandas) (1.26.2)\n",
      "Requirement already satisfied: python-dateutil>=2.8.2 in c:\\users\\root\\.conda\\envs\\econ\\lib\\site-packages (from pandas) (2.8.2)\n",
      "Requirement already satisfied: pytz>=2020.1 in c:\\users\\root\\.conda\\envs\\econ\\lib\\site-packages (from pandas) (2023.3.post1)\n",
      "Requirement already satisfied: tzdata>=2022.1 in c:\\users\\root\\.conda\\envs\\econ\\lib\\site-packages (from pandas) (2023.3)\n",
      "Requirement already satisfied: six>=1.5 in c:\\users\\root\\.conda\\envs\\econ\\lib\\site-packages (from python-dateutil>=2.8.2->pandas) (1.16.0)\n"
     ]
    }
   ],
   "source": [
    "!pip install pandas"
   ]
  },
  {
   "cell_type": "code",
   "execution_count": 65,
   "metadata": {
    "colab": {
     "base_uri": "https://localhost:8080/"
    },
    "id": "0PUVkPqg65ZP",
    "outputId": "21d7a9cb-11eb-4f24-c8de-6e5c1260958d"
   },
   "outputs": [
    {
     "name": "stdout",
     "output_type": "stream",
     "text": [
      "Requirement already satisfied: openpyxl in c:\\users\\root\\.conda\\envs\\econ\\lib\\site-packages (3.1.2)\n",
      "Requirement already satisfied: et-xmlfile in c:\\users\\root\\.conda\\envs\\econ\\lib\\site-packages (from openpyxl) (1.1.0)\n"
     ]
    }
   ],
   "source": [
    "!pip install openpyxl"
   ]
  },
  {
   "cell_type": "code",
   "execution_count": 66,
   "metadata": {
    "id": "WU3OXArtI2wC"
   },
   "outputs": [],
   "source": [
    "import numpy as np\n",
    "import pandas as pd\n",
    "import matplotlib.pyplot as plt\n",
    "from statsmodels.tsa.stattools import adfuller\n",
    "from statsmodels.tsa.seasonal import seasonal_decompose\n",
    "from statsmodels.tsa.filters.hp_filter import hpfilter\n",
    "from scipy.optimize import minimize"
   ]
  },
  {
   "cell_type": "code",
   "execution_count": 67,
   "metadata": {
    "id": "SiJX-_WpI4tE"
   },
   "outputs": [],
   "source": [
    "df = pd.read_excel('C:/Users/Root/DATA_AUSTRIA.xlsx')"
   ]
  },
  {
   "cell_type": "code",
   "execution_count": 68,
   "metadata": {
    "id": "6UvcuaaCJjnr"
   },
   "outputs": [],
   "source": [
    "Y = df['Y'].values\n",
    "C = df['C'].values\n",
    "I = df['I'].values\n",
    "K=  df['K'].values\n",
    "N = df['N'].values\n",
    "r = df['r'].values\n",
    "w = df['w'].values"
   ]
  },
  {
   "cell_type": "code",
   "execution_count": 69,
   "metadata": {
    "colab": {
     "base_uri": "https://localhost:8080/"
    },
    "id": "P4Xp6g27PmZE",
    "outputId": "9384261b-3e90-4fa0-a4c8-91ba7556ba2f"
   },
   "outputs": [
    {
     "data": {
      "text/plain": [
       "{'Y': 'ADF Test: Y\\nADF Statistic: -5.327479327385257\\np-value: 4.801804219229677e-06\\nNum Lags: 0\\nNum Observations: 44\\nCritical Value (1%): -3.5885733964124715\\nCritical Value (5%): -2.929885661157025\\nCritical Value (10%): -2.6031845661157025\\n',\n",
       " 'C': 'ADF Test: C\\nADF Statistic: -3.2884629135178525\\np-value: 0.015402125176008976\\nNum Lags: 0\\nNum Observations: 49\\nCritical Value (1%): -3.5714715250448363\\nCritical Value (5%): -2.922629480573571\\nCritical Value (10%): -2.5993358475635153\\n',\n",
       " 'I': 'ADF Test: I\\nADF Statistic: -2.6553820376710418\\np-value: 0.08208242150058981\\nNum Lags: 0\\nNum Observations: 49\\nCritical Value (1%): -3.5714715250448363\\nCritical Value (5%): -2.922629480573571\\nCritical Value (10%): -2.5993358475635153\\n',\n",
       " 'N': 'ADF Test: N\\nADF Statistic: -2.6553820376710418\\np-value: 0.08208242150058981\\nNum Lags: 0\\nNum Observations: 49\\nCritical Value (1%): -3.5714715250448363\\nCritical Value (5%): -2.922629480573571\\nCritical Value (10%): -2.5993358475635153\\n',\n",
       " 'r': 'ADF Test: r\\nADF Statistic: -4.214114743737818\\np-value: 0.000623573687896187\\nNum Lags: 1\\nNum Observations: 39\\nCritical Value (1%): -3.610399601308181\\nCritical Value (5%): -2.939108945868946\\nCritical Value (10%): -2.6080629651545038\\n',\n",
       " 'w': 'ADF Test: w\\nADF Statistic: -2.86383597930944\\np-value: 0.04971789874421976\\nNum Lags: 0\\nNum Observations: 49\\nCritical Value (1%): -3.5714715250448363\\nCritical Value (5%): -2.922629480573571\\nCritical Value (10%): -2.5993358475635153\\n',\n",
       " 'K': 'ADF Test: K\\nADF Statistic: -2.6553820376710418\\np-value: 0.08208242150058981\\nNum Lags: 0\\nNum Observations: 49\\nCritical Value (1%): -3.5714715250448363\\nCritical Value (5%): -2.922629480573571\\nCritical Value (10%): -2.5993358475635153\\n'}"
      ]
     },
     "execution_count": 69,
     "metadata": {},
     "output_type": "execute_result"
    }
   ],
   "source": [
    "\n",
    "for column in ['Y', 'C', 'I', 'N', 'r', 'w', 'K']:\n",
    "    df[column] = df[column].astype(str).str.replace(',', '.').astype(float)\n",
    "\n",
    "log_vars = ['Y', 'C', 'I', 'N', 'r', 'w', 'K']\n",
    "for var in log_vars:\n",
    "    df[var] = df[var].apply(lambda x: np.log(x) if x > 0 else np.nan)\n",
    "\n",
    "\n",
    "for var in log_vars:\n",
    "    if df[var].isna().sum() / len(df) > 0.5:\n",
    "        print(f\"Warning: Over 50% NaN values in {var} after log transformation.\")\n",
    "\n",
    "for var in log_vars:\n",
    "    if df[var].isna().sum() / len(df) < 0.5:\n",
    "        cycle, trend = hpfilter(df[var].dropna(), lamb=1600)\n",
    "        df[var + '_cycle'] = cycle\n",
    "    else:\n",
    "        df[var + '_cycle'] = np.nan\n",
    "\n",
    "def adf_test(series, title=''):\n",
    "    if series.dropna().empty:\n",
    "        return f'ADF Test: {title} - no non-NaN data available after preprocessing.\\n'\n",
    "    result = adfuller(series.dropna(), autolag='AIC')\n",
    "    output = f'ADF Test: {title}\\n'\n",
    "    output += f'ADF Statistic: {result[0]}\\n'\n",
    "    output += f'p-value: {result[1]}\\n'\n",
    "    output += f'Num Lags: {result[2]}\\n'\n",
    "    output += f'Num Observations: {result[3]}\\n'\n",
    "    for key, value in result[4].items():\n",
    "        output += f'Critical Value ({key}): {value}\\n'\n",
    "    return output\n",
    "\n",
    "adf_results = {}\n",
    "for var in log_vars:\n",
    "    if df[var + '_cycle'].notna().any():\n",
    "        adf_results[var] = adf_test(df[var + '_cycle'], title=var)\n",
    "\n",
    "adf_results"
   ]
  },
  {
   "cell_type": "code",
   "execution_count": 70,
   "metadata": {
    "id": "jH3F4itHU1Cy"
   },
   "outputs": [],
   "source": [
    "beta = 0.99\n",
    "alpha = 0.3\n",
    "delta = 0.05"
   ]
  },
  {
   "cell_type": "code",
   "execution_count": 81,
   "metadata": {
    "colab": {
     "base_uri": "https://localhost:8080/",
     "height": 1000
    },
    "id": "j82ZnBZzb6oj",
    "outputId": "2cdca25a-005b-425c-8fc1-e992ce9998e3"
   },
   "outputs": [
    {
     "ename": "TypeError",
     "evalue": "'numpy.float64' object is not callable",
     "output_type": "error",
     "traceback": [
      "\u001b[1;31m---------------------------------------------------------------------------\u001b[0m",
      "\u001b[1;31mTypeError\u001b[0m                                 Traceback (most recent call last)",
      "Cell \u001b[1;32mIn[81], line 41\u001b[0m\n\u001b[0;32m     38\u001b[0m A_t \u001b[38;5;241m=\u001b[39m A[t] \u001b[38;5;241m*\u001b[39m shocks[t] \u001b[38;5;66;03m# Modify A with the shock\u001b[39;00m\n\u001b[0;32m     40\u001b[0m \u001b[38;5;66;03m# Optimize consumption and investment\u001b[39;00m\n\u001b[1;32m---> 41\u001b[0m result \u001b[38;5;241m=\u001b[39m \u001b[43mminimize\u001b[49m\u001b[43m(\u001b[49m\n\u001b[0;32m     42\u001b[0m \u001b[43m    \u001b[49m\u001b[38;5;28;43;01mlambda\u001b[39;49;00m\u001b[43m \u001b[49m\u001b[43mx\u001b[49m\u001b[43m:\u001b[49m\u001b[43m \u001b[49m\u001b[38;5;241;43m-\u001b[39;49m\u001b[43mutility\u001b[49m\u001b[43m(\u001b[49m\u001b[43mx\u001b[49m\u001b[43m[\u001b[49m\u001b[38;5;241;43m0\u001b[39;49m\u001b[43m]\u001b[49m\u001b[43m,\u001b[49m\u001b[43m \u001b[49m\u001b[43mbeta\u001b[49m\u001b[43m)\u001b[49m\u001b[43m,\u001b[49m\u001b[43m \u001b[49m\u001b[38;5;66;43;03m# Функция потерь\u001b[39;49;00m\n\u001b[0;32m     43\u001b[0m \u001b[43m    \u001b[49m\u001b[43m[\u001b[49m\u001b[38;5;241;43m1\u001b[39;49m\u001b[43m,\u001b[49m\u001b[43m \u001b[49m\u001b[38;5;241;43m1\u001b[39;49m\u001b[43m]\u001b[49m\u001b[43m,\u001b[49m\u001b[43m \u001b[49m\u001b[38;5;66;43;03m# Начальное предположение\u001b[39;49;00m\n\u001b[0;32m     44\u001b[0m \u001b[43m    \u001b[49m\u001b[43mconstraints\u001b[49m\u001b[38;5;241;43m=\u001b[39;49m\u001b[43m(\u001b[49m\n\u001b[0;32m     45\u001b[0m \u001b[43m        \u001b[49m\u001b[43m{\u001b[49m\u001b[38;5;124;43m'\u001b[39;49m\u001b[38;5;124;43mtype\u001b[39;49m\u001b[38;5;124;43m'\u001b[39;49m\u001b[43m:\u001b[49m\u001b[43m \u001b[49m\u001b[38;5;124;43m'\u001b[39;49m\u001b[38;5;124;43mineq\u001b[39;49m\u001b[38;5;124;43m'\u001b[39;49m\u001b[43m,\u001b[49m\u001b[43m \u001b[49m\u001b[38;5;124;43m'\u001b[39;49m\u001b[38;5;124;43mfun\u001b[39;49m\u001b[38;5;124;43m'\u001b[39;49m\u001b[43m:\u001b[49m\u001b[43m \u001b[49m\u001b[38;5;28;43;01mlambda\u001b[39;49;00m\u001b[43m \u001b[49m\u001b[43mx\u001b[49m\u001b[43m:\u001b[49m\u001b[43m \u001b[49m\u001b[43mconstraint1\u001b[49m\u001b[43m(\u001b[49m\u001b[43mx\u001b[49m\u001b[43m[\u001b[49m\u001b[38;5;241;43m0\u001b[39;49m\u001b[43m]\u001b[49m\u001b[43m,\u001b[49m\u001b[43m \u001b[49m\u001b[43mx\u001b[49m\u001b[43m[\u001b[49m\u001b[38;5;241;43m1\u001b[39;49m\u001b[43m]\u001b[49m\u001b[43m,\u001b[49m\u001b[43m \u001b[49m\u001b[43mw\u001b[49m\u001b[43m[\u001b[49m\u001b[43mt\u001b[49m\u001b[43m]\u001b[49m\u001b[43m,\u001b[49m\u001b[43m \u001b[49m\u001b[43mN\u001b[49m\u001b[43m[\u001b[49m\u001b[43mt\u001b[49m\u001b[43m]\u001b[49m\u001b[43m,\u001b[49m\u001b[43m \u001b[49m\u001b[43mr\u001b[49m\u001b[43m[\u001b[49m\u001b[43mt\u001b[49m\u001b[43m]\u001b[49m\u001b[43m,\u001b[49m\u001b[43m \u001b[49m\u001b[43mK\u001b[49m\u001b[43m[\u001b[49m\u001b[43mt\u001b[49m\u001b[43m]\u001b[49m\u001b[43m)\u001b[49m\u001b[43m}\u001b[49m\u001b[43m,\u001b[49m\n\u001b[0;32m     46\u001b[0m \u001b[43m        \u001b[49m\u001b[43m{\u001b[49m\u001b[38;5;124;43m'\u001b[39;49m\u001b[38;5;124;43mtype\u001b[39;49m\u001b[38;5;124;43m'\u001b[39;49m\u001b[43m:\u001b[49m\u001b[43m \u001b[49m\u001b[38;5;124;43m'\u001b[39;49m\u001b[38;5;124;43mineq\u001b[39;49m\u001b[38;5;124;43m'\u001b[39;49m\u001b[43m,\u001b[49m\u001b[43m \u001b[49m\u001b[38;5;124;43m'\u001b[39;49m\u001b[38;5;124;43mfun\u001b[39;49m\u001b[38;5;124;43m'\u001b[39;49m\u001b[43m:\u001b[49m\u001b[43m \u001b[49m\u001b[38;5;28;43;01mlambda\u001b[39;49;00m\u001b[43m \u001b[49m\u001b[43mx\u001b[49m\u001b[43m:\u001b[49m\u001b[43m \u001b[49m\u001b[43mconstraint2\u001b[49m\u001b[43m(\u001b[49m\u001b[43mK\u001b[49m\u001b[43m[\u001b[49m\u001b[43mt\u001b[49m\u001b[38;5;241;43m+\u001b[39;49m\u001b[38;5;241;43m1\u001b[39;49m\u001b[43m]\u001b[49m\u001b[43m,\u001b[49m\u001b[43m \u001b[49m\u001b[43mx\u001b[49m\u001b[43m[\u001b[49m\u001b[38;5;241;43m1\u001b[39;49m\u001b[43m]\u001b[49m\u001b[43m,\u001b[49m\u001b[43m \u001b[49m\u001b[43mK\u001b[49m\u001b[43m[\u001b[49m\u001b[43mt\u001b[49m\u001b[43m]\u001b[49m\u001b[43m,\u001b[49m\u001b[43m \u001b[49m\u001b[43mdelta\u001b[49m\u001b[43m)\u001b[49m\u001b[43m}\u001b[49m\n\u001b[0;32m     47\u001b[0m \u001b[43m    \u001b[49m\u001b[43m)\u001b[49m\u001b[43m,\u001b[49m\n\u001b[0;32m     48\u001b[0m \u001b[43m    \u001b[49m\u001b[43mbounds\u001b[49m\u001b[38;5;241;43m=\u001b[39;49m\u001b[43m(\u001b[49m\u001b[43m(\u001b[49m\u001b[38;5;241;43m0\u001b[39;49m\u001b[43m,\u001b[49m\u001b[43m \u001b[49m\u001b[38;5;28;43;01mNone\u001b[39;49;00m\u001b[43m)\u001b[49m\u001b[43m,\u001b[49m\u001b[43m \u001b[49m\u001b[43m(\u001b[49m\u001b[38;5;241;43m0\u001b[39;49m\u001b[43m,\u001b[49m\u001b[43m \u001b[49m\u001b[38;5;28;43;01mNone\u001b[39;49;00m\u001b[43m)\u001b[49m\u001b[43m)\u001b[49m\u001b[43m \u001b[49m\u001b[38;5;66;43;03m# C и I не могут быть отрицательными\u001b[39;49;00m\n\u001b[0;32m     49\u001b[0m \u001b[43m\u001b[49m\u001b[43m)\u001b[49m\n\u001b[0;32m     51\u001b[0m \u001b[38;5;66;03m# If optimization is successful, save the results\u001b[39;00m\n\u001b[0;32m     52\u001b[0m \u001b[38;5;28;01mif\u001b[39;00m result\u001b[38;5;241m.\u001b[39msuccess:\n",
      "File \u001b[1;32m~\\.conda\\envs\\econ\\Lib\\site-packages\\scipy\\optimize\\_minimize.py:719\u001b[0m, in \u001b[0;36mminimize\u001b[1;34m(fun, x0, args, method, jac, hess, hessp, bounds, constraints, tol, callback, options)\u001b[0m\n\u001b[0;32m    716\u001b[0m     res \u001b[38;5;241m=\u001b[39m _minimize_cobyla(fun, x0, args, constraints, callback\u001b[38;5;241m=\u001b[39mcallback,\n\u001b[0;32m    717\u001b[0m                            bounds\u001b[38;5;241m=\u001b[39mbounds, \u001b[38;5;241m*\u001b[39m\u001b[38;5;241m*\u001b[39moptions)\n\u001b[0;32m    718\u001b[0m \u001b[38;5;28;01melif\u001b[39;00m meth \u001b[38;5;241m==\u001b[39m \u001b[38;5;124m'\u001b[39m\u001b[38;5;124mslsqp\u001b[39m\u001b[38;5;124m'\u001b[39m:\n\u001b[1;32m--> 719\u001b[0m     res \u001b[38;5;241m=\u001b[39m \u001b[43m_minimize_slsqp\u001b[49m\u001b[43m(\u001b[49m\u001b[43mfun\u001b[49m\u001b[43m,\u001b[49m\u001b[43m \u001b[49m\u001b[43mx0\u001b[49m\u001b[43m,\u001b[49m\u001b[43m \u001b[49m\u001b[43margs\u001b[49m\u001b[43m,\u001b[49m\u001b[43m \u001b[49m\u001b[43mjac\u001b[49m\u001b[43m,\u001b[49m\u001b[43m \u001b[49m\u001b[43mbounds\u001b[49m\u001b[43m,\u001b[49m\n\u001b[0;32m    720\u001b[0m \u001b[43m                          \u001b[49m\u001b[43mconstraints\u001b[49m\u001b[43m,\u001b[49m\u001b[43m \u001b[49m\u001b[43mcallback\u001b[49m\u001b[38;5;241;43m=\u001b[39;49m\u001b[43mcallback\u001b[49m\u001b[43m,\u001b[49m\u001b[43m \u001b[49m\u001b[38;5;241;43m*\u001b[39;49m\u001b[38;5;241;43m*\u001b[39;49m\u001b[43moptions\u001b[49m\u001b[43m)\u001b[49m\n\u001b[0;32m    721\u001b[0m \u001b[38;5;28;01melif\u001b[39;00m meth \u001b[38;5;241m==\u001b[39m \u001b[38;5;124m'\u001b[39m\u001b[38;5;124mtrust-constr\u001b[39m\u001b[38;5;124m'\u001b[39m:\n\u001b[0;32m    722\u001b[0m     res \u001b[38;5;241m=\u001b[39m _minimize_trustregion_constr(fun, x0, args, jac, hess, hessp,\n\u001b[0;32m    723\u001b[0m                                        bounds, constraints,\n\u001b[0;32m    724\u001b[0m                                        callback\u001b[38;5;241m=\u001b[39mcallback, \u001b[38;5;241m*\u001b[39m\u001b[38;5;241m*\u001b[39moptions)\n",
      "File \u001b[1;32m~\\.conda\\envs\\econ\\Lib\\site-packages\\scipy\\optimize\\_slsqp_py.py:329\u001b[0m, in \u001b[0;36m_minimize_slsqp\u001b[1;34m(func, x0, args, jac, bounds, constraints, maxiter, ftol, iprint, disp, eps, callback, finite_diff_rel_step, **unknown_options)\u001b[0m\n\u001b[0;32m    325\u001b[0m \u001b[38;5;66;03m# Set the parameters that SLSQP will need\u001b[39;00m\n\u001b[0;32m    326\u001b[0m \u001b[38;5;66;03m# meq, mieq: number of equality and inequality constraints\u001b[39;00m\n\u001b[0;32m    327\u001b[0m meq \u001b[38;5;241m=\u001b[39m \u001b[38;5;28msum\u001b[39m(\u001b[38;5;28mmap\u001b[39m(\u001b[38;5;28mlen\u001b[39m, [atleast_1d(c[\u001b[38;5;124m'\u001b[39m\u001b[38;5;124mfun\u001b[39m\u001b[38;5;124m'\u001b[39m](x, \u001b[38;5;241m*\u001b[39mc[\u001b[38;5;124m'\u001b[39m\u001b[38;5;124margs\u001b[39m\u001b[38;5;124m'\u001b[39m]))\n\u001b[0;32m    328\u001b[0m           \u001b[38;5;28;01mfor\u001b[39;00m c \u001b[38;5;129;01min\u001b[39;00m cons[\u001b[38;5;124m'\u001b[39m\u001b[38;5;124meq\u001b[39m\u001b[38;5;124m'\u001b[39m]]))\n\u001b[1;32m--> 329\u001b[0m mieq \u001b[38;5;241m=\u001b[39m \u001b[38;5;28msum\u001b[39m(\u001b[38;5;28mmap\u001b[39m(\u001b[38;5;28mlen\u001b[39m, \u001b[43m[\u001b[49m\u001b[43matleast_1d\u001b[49m\u001b[43m(\u001b[49m\u001b[43mc\u001b[49m\u001b[43m[\u001b[49m\u001b[38;5;124;43m'\u001b[39;49m\u001b[38;5;124;43mfun\u001b[39;49m\u001b[38;5;124;43m'\u001b[39;49m\u001b[43m]\u001b[49m\u001b[43m(\u001b[49m\u001b[43mx\u001b[49m\u001b[43m,\u001b[49m\u001b[43m \u001b[49m\u001b[38;5;241;43m*\u001b[39;49m\u001b[43mc\u001b[49m\u001b[43m[\u001b[49m\u001b[38;5;124;43m'\u001b[39;49m\u001b[38;5;124;43margs\u001b[39;49m\u001b[38;5;124;43m'\u001b[39;49m\u001b[43m]\u001b[49m\u001b[43m)\u001b[49m\u001b[43m)\u001b[49m\n\u001b[0;32m    330\u001b[0m \u001b[43m           \u001b[49m\u001b[38;5;28;43;01mfor\u001b[39;49;00m\u001b[43m \u001b[49m\u001b[43mc\u001b[49m\u001b[43m \u001b[49m\u001b[38;5;129;43;01min\u001b[39;49;00m\u001b[43m \u001b[49m\u001b[43mcons\u001b[49m\u001b[43m[\u001b[49m\u001b[38;5;124;43m'\u001b[39;49m\u001b[38;5;124;43mineq\u001b[39;49m\u001b[38;5;124;43m'\u001b[39;49m\u001b[43m]\u001b[49m\u001b[43m]\u001b[49m))\n\u001b[0;32m    331\u001b[0m \u001b[38;5;66;03m# m = The total number of constraints\u001b[39;00m\n\u001b[0;32m    332\u001b[0m m \u001b[38;5;241m=\u001b[39m meq \u001b[38;5;241m+\u001b[39m mieq\n",
      "File \u001b[1;32m~\\.conda\\envs\\econ\\Lib\\site-packages\\scipy\\optimize\\_slsqp_py.py:329\u001b[0m, in \u001b[0;36m<listcomp>\u001b[1;34m(.0)\u001b[0m\n\u001b[0;32m    325\u001b[0m \u001b[38;5;66;03m# Set the parameters that SLSQP will need\u001b[39;00m\n\u001b[0;32m    326\u001b[0m \u001b[38;5;66;03m# meq, mieq: number of equality and inequality constraints\u001b[39;00m\n\u001b[0;32m    327\u001b[0m meq \u001b[38;5;241m=\u001b[39m \u001b[38;5;28msum\u001b[39m(\u001b[38;5;28mmap\u001b[39m(\u001b[38;5;28mlen\u001b[39m, [atleast_1d(c[\u001b[38;5;124m'\u001b[39m\u001b[38;5;124mfun\u001b[39m\u001b[38;5;124m'\u001b[39m](x, \u001b[38;5;241m*\u001b[39mc[\u001b[38;5;124m'\u001b[39m\u001b[38;5;124margs\u001b[39m\u001b[38;5;124m'\u001b[39m]))\n\u001b[0;32m    328\u001b[0m           \u001b[38;5;28;01mfor\u001b[39;00m c \u001b[38;5;129;01min\u001b[39;00m cons[\u001b[38;5;124m'\u001b[39m\u001b[38;5;124meq\u001b[39m\u001b[38;5;124m'\u001b[39m]]))\n\u001b[1;32m--> 329\u001b[0m mieq \u001b[38;5;241m=\u001b[39m \u001b[38;5;28msum\u001b[39m(\u001b[38;5;28mmap\u001b[39m(\u001b[38;5;28mlen\u001b[39m, [atleast_1d(\u001b[43mc\u001b[49m\u001b[43m[\u001b[49m\u001b[38;5;124;43m'\u001b[39;49m\u001b[38;5;124;43mfun\u001b[39;49m\u001b[38;5;124;43m'\u001b[39;49m\u001b[43m]\u001b[49m\u001b[43m(\u001b[49m\u001b[43mx\u001b[49m\u001b[43m,\u001b[49m\u001b[43m \u001b[49m\u001b[38;5;241;43m*\u001b[39;49m\u001b[43mc\u001b[49m\u001b[43m[\u001b[49m\u001b[38;5;124;43m'\u001b[39;49m\u001b[38;5;124;43margs\u001b[39;49m\u001b[38;5;124;43m'\u001b[39;49m\u001b[43m]\u001b[49m\u001b[43m)\u001b[49m)\n\u001b[0;32m    330\u001b[0m            \u001b[38;5;28;01mfor\u001b[39;00m c \u001b[38;5;129;01min\u001b[39;00m cons[\u001b[38;5;124m'\u001b[39m\u001b[38;5;124mineq\u001b[39m\u001b[38;5;124m'\u001b[39m]]))\n\u001b[0;32m    331\u001b[0m \u001b[38;5;66;03m# m = The total number of constraints\u001b[39;00m\n\u001b[0;32m    332\u001b[0m m \u001b[38;5;241m=\u001b[39m meq \u001b[38;5;241m+\u001b[39m mieq\n",
      "Cell \u001b[1;32mIn[81], line 45\u001b[0m, in \u001b[0;36m<lambda>\u001b[1;34m(x)\u001b[0m\n\u001b[0;32m     38\u001b[0m A_t \u001b[38;5;241m=\u001b[39m A[t] \u001b[38;5;241m*\u001b[39m shocks[t] \u001b[38;5;66;03m# Modify A with the shock\u001b[39;00m\n\u001b[0;32m     40\u001b[0m \u001b[38;5;66;03m# Optimize consumption and investment\u001b[39;00m\n\u001b[0;32m     41\u001b[0m result \u001b[38;5;241m=\u001b[39m minimize(\n\u001b[0;32m     42\u001b[0m     \u001b[38;5;28;01mlambda\u001b[39;00m x: \u001b[38;5;241m-\u001b[39mutility(x[\u001b[38;5;241m0\u001b[39m], beta), \u001b[38;5;66;03m# Функция потерь\u001b[39;00m\n\u001b[0;32m     43\u001b[0m     [\u001b[38;5;241m1\u001b[39m, \u001b[38;5;241m1\u001b[39m], \u001b[38;5;66;03m# Начальное предположение\u001b[39;00m\n\u001b[0;32m     44\u001b[0m     constraints\u001b[38;5;241m=\u001b[39m(\n\u001b[1;32m---> 45\u001b[0m         {\u001b[38;5;124m'\u001b[39m\u001b[38;5;124mtype\u001b[39m\u001b[38;5;124m'\u001b[39m: \u001b[38;5;124m'\u001b[39m\u001b[38;5;124mineq\u001b[39m\u001b[38;5;124m'\u001b[39m, \u001b[38;5;124m'\u001b[39m\u001b[38;5;124mfun\u001b[39m\u001b[38;5;124m'\u001b[39m: \u001b[38;5;28;01mlambda\u001b[39;00m x: \u001b[43mconstraint1\u001b[49m\u001b[43m(\u001b[49m\u001b[43mx\u001b[49m\u001b[43m[\u001b[49m\u001b[38;5;241;43m0\u001b[39;49m\u001b[43m]\u001b[49m\u001b[43m,\u001b[49m\u001b[43m \u001b[49m\u001b[43mx\u001b[49m\u001b[43m[\u001b[49m\u001b[38;5;241;43m1\u001b[39;49m\u001b[43m]\u001b[49m\u001b[43m,\u001b[49m\u001b[43m \u001b[49m\u001b[43mw\u001b[49m\u001b[43m[\u001b[49m\u001b[43mt\u001b[49m\u001b[43m]\u001b[49m\u001b[43m,\u001b[49m\u001b[43m \u001b[49m\u001b[43mN\u001b[49m\u001b[43m[\u001b[49m\u001b[43mt\u001b[49m\u001b[43m]\u001b[49m\u001b[43m,\u001b[49m\u001b[43m \u001b[49m\u001b[43mr\u001b[49m\u001b[43m[\u001b[49m\u001b[43mt\u001b[49m\u001b[43m]\u001b[49m\u001b[43m,\u001b[49m\u001b[43m \u001b[49m\u001b[43mK\u001b[49m\u001b[43m[\u001b[49m\u001b[43mt\u001b[49m\u001b[43m]\u001b[49m\u001b[43m)\u001b[49m},\n\u001b[0;32m     46\u001b[0m         {\u001b[38;5;124m'\u001b[39m\u001b[38;5;124mtype\u001b[39m\u001b[38;5;124m'\u001b[39m: \u001b[38;5;124m'\u001b[39m\u001b[38;5;124mineq\u001b[39m\u001b[38;5;124m'\u001b[39m, \u001b[38;5;124m'\u001b[39m\u001b[38;5;124mfun\u001b[39m\u001b[38;5;124m'\u001b[39m: \u001b[38;5;28;01mlambda\u001b[39;00m x: constraint2(K[t\u001b[38;5;241m+\u001b[39m\u001b[38;5;241m1\u001b[39m], x[\u001b[38;5;241m1\u001b[39m], K[t], delta)}\n\u001b[0;32m     47\u001b[0m     ),\n\u001b[0;32m     48\u001b[0m     bounds\u001b[38;5;241m=\u001b[39m((\u001b[38;5;241m0\u001b[39m, \u001b[38;5;28;01mNone\u001b[39;00m), (\u001b[38;5;241m0\u001b[39m, \u001b[38;5;28;01mNone\u001b[39;00m)) \u001b[38;5;66;03m# C и I не могут быть отрицательными\u001b[39;00m\n\u001b[0;32m     49\u001b[0m )\n\u001b[0;32m     51\u001b[0m \u001b[38;5;66;03m# If optimization is successful, save the results\u001b[39;00m\n\u001b[0;32m     52\u001b[0m \u001b[38;5;28;01mif\u001b[39;00m result\u001b[38;5;241m.\u001b[39msuccess:\n",
      "Cell \u001b[1;32mIn[81], line 7\u001b[0m, in \u001b[0;36mconstraint1\u001b[1;34m(C, I, w, N, r, K)\u001b[0m\n\u001b[0;32m      6\u001b[0m \u001b[38;5;28;01mdef\u001b[39;00m \u001b[38;5;21mconstraint1\u001b[39m(C, I, w, N, r, K):\n\u001b[1;32m----> 7\u001b[0m     \u001b[38;5;28;01mreturn\u001b[39;00m w \u001b[38;5;241m*\u001b[39m \u001b[43mN\u001b[49m\u001b[43m \u001b[49m\u001b[43m(\u001b[49m\u001b[38;5;241;43m1\u001b[39;49m\u001b[43m \u001b[49m\u001b[38;5;241;43m-\u001b[39;49m\u001b[43m \u001b[49m\u001b[43mr\u001b[49m\u001b[43m)\u001b[49m \u001b[38;5;241m*\u001b[39m K \u001b[38;5;241m-\u001b[39m C \u001b[38;5;241m-\u001b[39m I\n",
      "\u001b[1;31mTypeError\u001b[0m: 'numpy.float64' object is not callable"
     ]
    }
   ],
   "source": [
    "# Функция потерь (пример)\n",
    "def utility(C, beta):\n",
    "    return C**beta\n",
    "\n",
    "# Функции ограничений\n",
    "def constraint1(C, I, w, N, r, K):\n",
    "    return w * N (1 - r) * K - C - I\n",
    "\n",
    "def constraint2(K_next, I, K, delta):\n",
    "    return K_next - (1 - delta) * K - I\n",
    "\n",
    "# Simulate shocks\n",
    "def simulate_shock(T):\n",
    "    shocks = [1]\n",
    "    std_shock = 0.02\n",
    "    for t in range(1, T):\n",
    "        shocks.append(shocks[-1] * np.random.lognormal(std_shock))\n",
    "    return shocks\n",
    "\n",
    "# Initialize lists to store results\n",
    "C = np.zeros(len(Y))\n",
    "I = np.zeros(len(Y))\n",
    "K_new = np.zeros(len(Y))\n",
    "r = np.zeros(len(Y))\n",
    "w = np.zeros(len(Y))\n",
    "\n",
    "# Simulate shocks\n",
    "shocks = simulate_shock(len(Y))\n",
    "A = simulate_shock(len(Y))\n",
    "\n",
    "# Solve the model using optimization\n",
    "for t in range(len(Y)-1):\n",
    "    # Calculate current values for r and w\n",
    "    r[t] = alpha * Y[t] / K[t]\n",
    "    w[t] = (1 - alpha) * Y[t] / N[t]\n",
    "\n",
    "    # Apply shocks to parameters (e.g., technology shock)\n",
    "    A_t = A[t] * shocks[t] # Modify A with the shock\n",
    "\n",
    "    # Optimize consumption and investment\n",
    "    result = minimize(\n",
    "        lambda x: -utility(x[0], beta), # Функция потерь\n",
    "        [1, 1], # Начальное предположение\n",
    "        constraints=(\n",
    "            {'type': 'ineq', 'fun': lambda x: constraint1(x[0], x[1], w[t], N[t], r[t], K[t])},\n",
    "            {'type': 'ineq', 'fun': lambda x: constraint2(K[t+1], x[1], K[t], delta)}\n",
    "        ),\n",
    "        bounds=((0, None), (0, None)) # C и I не могут быть отрицательными\n",
    "    )\n",
    "\n",
    "    # If optimization is successful, save the results\n",
    "    if result.success:\n",
    "        C[t], I[t] = result.x\n",
    "    else:\n",
    "        print(f\"Optimization failed at t={t}\")\n",
    "\n",
    "# Results with shocks\n",
    "plt.figure(figsize=(12, 8))\n",
    "\n",
    "# GDP plot with shocks\n",
    "plt.subplot(2, 3, 1)\n",
    "plt.plot(Y, label='GDP')\n",
    "plt.plot(Y * np.cumprod(shocks), label='GDP with Shocks', linestyle='--')\n",
    "plt.title('GDP Dynamics')\n",
    "\n",
    "# Consumption plot with shocks\n",
    "plt.subplot(2, 3, 2)\n",
    "plt.plot(C, label='Consumption')\n",
    "plt.plot(C * np.cumprod(shocks), label='Consumption with Shocks', linestyle='--')\n",
    "plt.title('Consumption Dynamics')\n",
    "\n",
    "# Investment plot with shocks\n",
    "plt.subplot(2, 3, 3)\n",
    "plt.plot(I, label='Investment')\n",
    "plt.plot(I * np.cumprod(shocks), label='Investment with Shocks', linestyle='--')\n",
    "plt.title('Investment Dynamics')\n",
    "\n",
    "# Capital plot\n",
    "plt.subplot(2, 3, 4)\n",
    "plt.plot(K, label='Capital')\n",
    "plt.title('Capital Dynamics')\n",
    "\n",
    "# Interest rate plot\n",
    "plt.subplot(2, 3, 5)\n",
    "plt.plot(r, label='Interest Rate')\n",
    "plt.title('Interest Rate Dynamics')\n",
    "\n",
    "# Wage plot\n",
    "plt.subplot(2, 3, 6)\n",
    "plt.plot(w, label='Wage')\n",
    "plt.title('Wage Dynamics')\n",
    "\n",
    "plt.tight_layout()\n",
    "plt.legend()\n",
    "plt.show()"
   ]
  },
  {
   "cell_type": "code",
   "execution_count": null,
   "metadata": {},
   "outputs": [],
   "source": []
  }
 ],
 "metadata": {
  "colab": {
   "include_colab_link": true,
   "provenance": []
  },
  "kernelspec": {
   "display_name": "Python 3 (ipykernel)",
   "language": "python",
   "name": "python3"
  },
  "language_info": {
   "codemirror_mode": {
    "name": "ipython",
    "version": 3
   },
   "file_extension": ".py",
   "mimetype": "text/x-python",
   "name": "python",
   "nbconvert_exporter": "python",
   "pygments_lexer": "ipython3",
   "version": "3.11.7"
  }
 },
 "nbformat": 4,
 "nbformat_minor": 4
}
